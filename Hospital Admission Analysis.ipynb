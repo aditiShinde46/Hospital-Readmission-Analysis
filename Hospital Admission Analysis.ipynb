{
 "cells": [
  {
   "cell_type": "code",
   "execution_count": 45,
   "id": "b493f054",
   "metadata": {},
   "outputs": [],
   "source": [
    "import warnings\n",
    "warnings.filterwarnings(\"ignore\")\n",
    "\n",
    "import pandas as pd\n",
    "import numpy as np\n",
    "import matplotlib.pyplot as plt\n",
    "\n",
    "from sklearn.model_selection import train_test_split\n",
    "from sklearn.impute import SimpleImputer\n",
    "from sklearn.pipeline import Pipeline\n",
    "from sklearn.compose import ColumnTransformer\n",
    "from sklearn.preprocessing import OneHotEncoder, StandardScaler\n",
    "from sklearn.linear_model import LogisticRegression\n",
    "from sklearn.ensemble import RandomForestClassifier\n",
    "from sklearn.metrics import roc_auc_score, accuracy_score, classification_report, confusion_matrix\n"
   ]
  },
  {
   "cell_type": "code",
   "execution_count": 46,
   "id": "2eccb026",
   "metadata": {},
   "outputs": [
    {
     "name": "stdout",
     "output_type": "stream",
     "text": [
      "Loaded: HA Data.csv | rows: 66587 cols: 49\n"
     ]
    }
   ],
   "source": [
    "CSV = \"HA Data.csv\"\n",
    "try:\n",
    "    df = pd.read_csv(CSV, low_memory=False)\n",
    "    print(\"Loaded:\", CSV, \"| rows:\", len(df), \"cols:\", len(df.columns))\n",
    "except FileNotFoundError:\n",
    "    raise FileNotFoundError(f\"File {CSV} not found. Put HA Data.csv in notebook folder.\")\n"
   ]
  },
  {
   "cell_type": "code",
   "execution_count": 47,
   "id": "c0e8be46",
   "metadata": {},
   "outputs": [
    {
     "name": "stdout",
     "output_type": "stream",
     "text": [
      "Columns (sample): ['index', 'encounter_id', 'patient_id', 'race', 'gender', 'age', 'weight', 'time_in_hospital', 'medical_specialty', 'num_lab_procedures', 'num_procedures', 'num_medications', 'number_outpatient', 'number_emergency', 'number_inpatient', 'diag_1', 'diag_2', 'diag_3', 'diag_4', 'diag_5', 'number_diagnoses', 'X1', 'X2', 'X3', 'X4', 'X5', 'X6', 'X7', 'X8', 'X9']\n",
      "\n",
      "Nulls by column (top 10):\n",
      "index    0.0\n",
      "X5       0.0\n",
      "X7       0.0\n",
      "X8       0.0\n",
      "X9       0.0\n",
      "X10      0.0\n",
      "X11      0.0\n",
      "X12      0.0\n",
      "X13      0.0\n",
      "X14      0.0\n",
      "dtype: float64\n",
      "\n",
      "readmitted present?: True\n"
     ]
    }
   ],
   "source": [
    "print(\"Columns (sample):\", list(df.columns)[:30])\n",
    "print(\"\\nNulls by column (top 10):\")\n",
    "print(df.isnull().mean().sort_values(ascending=False).head(10).round(3))\n",
    "print(\"\\nreadmitted present?:\", 'readmitted' in df.columns)\n"
   ]
  },
  {
   "cell_type": "code",
   "execution_count": 48,
   "id": "3364d441",
   "metadata": {},
   "outputs": [
    {
     "name": "stdout",
     "output_type": "stream",
     "text": [
      "After cleaning, rows: 48911\n"
     ]
    }
   ],
   "source": [
    "if 'readmitted' not in df.columns:\n",
    "    raise RuntimeError(\"Dataset missing required 'readmitted' column.\")\n",
    "df = df.dropna(subset=['readmitted']).copy()\n",
    "def _norm_read(x):\n",
    "    try:\n",
    "        return int(x)\n",
    "    except:\n",
    "        s=str(x).strip().lower()\n",
    "        return 1 if s.startswith('1') or s in ['yes','y','true'] else 0\n",
    "df['readmitted'] = df['readmitted'].apply(_norm_read).astype(int)\n",
    "\n",
    "for c in ['admission_date','discharge_date','followup_appointment_date']:\n",
    "    if c in df.columns:\n",
    "        df[c] = pd.to_datetime(df[c], errors='coerce')\n",
    "\n",
    "df = df.drop_duplicates().reset_index(drop=True)\n",
    "print(\"After cleaning, rows:\", len(df))\n"
   ]
  },
  {
   "cell_type": "code",
   "execution_count": 49,
   "id": "e20e0190",
   "metadata": {},
   "outputs": [
    {
     "name": "stdout",
     "output_type": "stream",
     "text": [
      "Feature engineering done. Sample:\n",
      "   time_in_hospital  number_diagnoses  lace_score\n",
      "0                 4                 9           6\n",
      "1                 3                 6           3\n",
      "2                 6                 9           5\n"
     ]
    }
   ],
   "source": [
    "if 'time_in_hospital' in df.columns:\n",
    "    df['time_in_hospital'] = pd.to_numeric(df['time_in_hospital'], errors='coerce')\n",
    "elif 'admission_date' in df.columns and 'discharge_date' in df.columns:\n",
    "    df['time_in_hospital'] = (pd.to_datetime(df['discharge_date'], errors='coerce') - pd.to_datetime(df['admission_date'], errors='coerce')).dt.days\n",
    "else:\n",
    "    df['time_in_hospital'] = np.nan\n",
    "df['time_in_hospital'] = df['time_in_hospital'].clip(lower=0)\n",
    "\n",
    "diag_cols = [c for c in df.columns if c.lower().startswith('diag_')]\n",
    "if 'number_diagnoses' not in df.columns:\n",
    "    df['number_diagnoses'] = df[diag_cols].notna().sum(axis=1) if diag_cols else 0\n",
    "\n",
    "if 'diabetesMed' not in df.columns:\n",
    "    df['diabetesMed'] = 'No'\n",
    "else:\n",
    "    df['diabetesMed'] = df['diabetesMed'].fillna('No').astype(str)\n",
    "df['med_change_flag'] = df.get('change', 'No').fillna('No').astype(str).str.lower() == 'yes'\n",
    "\n",
    "def _los_pts(x):\n",
    "    if pd.isna(x): return 0\n",
    "    try:\n",
    "        x=int(x)\n",
    "    except:\n",
    "        return 0\n",
    "    return 0 if x<=1 else (1 if x<=3 else (2 if x<=6 else 3))\n",
    "df['L_pts'] = df['time_in_hospital'].apply(_los_pts)\n",
    "if 'admission_type' in df.columns:\n",
    "    df['A_pts'] = np.where(df['admission_type'].astype(str).str.lower()=='emergency', 3, 0)\n",
    "else:\n",
    "    df['A_pts'] = 0\n",
    "df['C_pts'] = pd.cut(df['number_diagnoses'].fillna(0).astype(int), bins=[-1,1,3,6,100], labels=[0,1,2,3]).astype(int)\n",
    "if 'number_emergency' in df.columns:\n",
    "    df['E_pts'] = pd.cut(df['number_emergency'].fillna(0).astype(int), bins=[-1,0,1,3,100], labels=[0,1,2,3]).astype(int)\n",
    "else:\n",
    "    df['E_pts'] = 0\n",
    "df['lace_score'] = df[['L_pts','A_pts','C_pts','E_pts']].sum(axis=1)\n",
    "\n",
    "if 'age' in df.columns:\n",
    "    df['age'] = pd.to_numeric(df['age'], errors='coerce')\n",
    "    df['age_group'] = pd.cut(df['age'], bins=[0,30,50,65,80,200], labels=['<30','30-49','50-64','65-79','80+'])\n",
    "else:\n",
    "    df['age_group'] = 'unknown'\n",
    "\n",
    "print(\"Feature engineering done. Sample:\")\n",
    "print(df[['time_in_hospital','number_diagnoses','lace_score']].head(3))\n"
   ]
  },
  {
   "cell_type": "markdown",
   "id": "9d7595b3",
   "metadata": {},
   "source": [
    "## BASIC QUESTIONS (B1–B10) — compact answers\n"
   ]
  },
  {
   "cell_type": "code",
   "execution_count": 50,
   "id": "c1588dff",
   "metadata": {},
   "outputs": [
    {
     "name": "stdout",
     "output_type": "stream",
     "text": [
      "B1 — Readmit by age_group (compact):\n",
      "age_group  n  readmit_rate\n",
      "      <30  0           NaN\n",
      "    30-49  0           NaN\n",
      "    50-64  0           NaN\n",
      "    65-79  0           NaN\n",
      "      80+  0           NaN\n"
     ]
    }
   ],
   "source": [
    "if 'age_group' in df.columns:\n",
    "    b1 = df.groupby('age_group')['readmitted'].agg(n='size', readmit_rate='mean').reset_index()\n",
    "    print(\"B1 — Readmit by age_group (compact):\")\n",
    "    print(b1.to_string(index=False))\n",
    "else:\n",
    "    print(\"B1 skipped — 'age' not present.\")\n"
   ]
  },
  {
   "cell_type": "code",
   "execution_count": 51,
   "id": "f69d59f5",
   "metadata": {},
   "outputs": [
    {
     "name": "stdout",
     "output_type": "stream",
     "text": [
      "B2 — Median LOS by specialty (top10):\n",
      "medical_specialty\n",
      "Pediatrics-Pulmonology               10.0\n",
      "PhysicalMedicineandRehabilitation     9.0\n",
      "Rheumatology                          9.0\n",
      "OutreachServices                      8.5\n",
      "Pathology                             8.0\n",
      "Psychiatry-Addictive                  8.0\n",
      "Proctology                            7.0\n",
      "Surgery-Colon&Rectal                  6.5\n",
      "Psychology                            6.0\n",
      "Surgery-Cardiovascular/Thoracic       6.0\n"
     ]
    }
   ],
   "source": [
    "if 'medical_specialty' in df.columns and df['time_in_hospital'].notna().any():\n",
    "    b2 = df.groupby('medical_specialty')['time_in_hospital'].median().sort_values(ascending=False).head(10)\n",
    "    print(\"B2 — Median LOS by specialty (top10):\")\n",
    "    print(b2.to_string())\n",
    "else:\n",
    "    print(\"B2 skipped — 'medical_specialty' or LOS missing.\")\n"
   ]
  },
  {
   "cell_type": "code",
   "execution_count": 52,
   "id": "b40fa83b",
   "metadata": {},
   "outputs": [
    {
     "name": "stdout",
     "output_type": "stream",
     "text": [
      "B3 — Corr(number_emergency, readmitted) = 0.109\n"
     ]
    }
   ],
   "source": [
    "if 'number_emergency' in df.columns:\n",
    "    corr = df['number_emergency'].corr(df['readmitted'])\n",
    "    print(f\"B3 — Corr(number_emergency, readmitted) = {corr:.3f}\")\n",
    "else:\n",
    "    print(\"B3 skipped — 'number_emergency' missing.\")\n"
   ]
  },
  {
   "cell_type": "code",
   "execution_count": 53,
   "id": "cbc34b25",
   "metadata": {},
   "outputs": [
    {
     "name": "stdout",
     "output_type": "stream",
     "text": [
      "B4 — Readmit among diabetesMed = 0.479 n= 37640\n"
     ]
    }
   ],
   "source": [
    "if 'diabetesMed' in df.columns:\n",
    "    mask = df['diabetesMed'].astype(str).str.lower().isin(['yes','y','true','1'])\n",
    "    if mask.sum()>0:\n",
    "        print(\"B4 — Readmit among diabetesMed =\", df.loc[mask,'readmitted'].mean().round(3), \"n=\", mask.sum())\n",
    "    else:\n",
    "        print(\"B4: no diabetesMed==Yes rows.\")\n",
    "else:\n",
    "    print(\"B4 skipped — 'diabetesMed' missing.\")\n"
   ]
  },
  {
   "cell_type": "code",
   "execution_count": 54,
   "id": "b0d44e7a",
   "metadata": {},
   "outputs": [
    {
     "name": "stdout",
     "output_type": "stream",
     "text": [
      "B5 — med_change_flag readmit rates:\n",
      " med_change_flag     n  readmit_rate\n",
      "           False 48911      0.462248\n"
     ]
    }
   ],
   "source": [
    "if 'med_change_flag' in df.columns:\n",
    "    b5 = df.groupby('med_change_flag')['readmitted'].agg(n='size', readmit_rate='mean').reset_index()\n",
    "    print(\"B5 — med_change_flag readmit rates:\")\n",
    "    print(b5.to_string(index=False))\n",
    "else:\n",
    "    print(\"B5 skipped — med_change_flag missing.\")\n"
   ]
  },
  {
   "cell_type": "code",
   "execution_count": 55,
   "id": "4ea47314",
   "metadata": {},
   "outputs": [
    {
     "name": "stdout",
     "output_type": "stream",
     "text": [
      "B6 — mean num_lab_procedures: not_readmit = 42.437 readmit = 43.894\n"
     ]
    }
   ],
   "source": [
    "if 'num_lab_procedures' in df.columns:\n",
    "    m = df.groupby('readmitted')['num_lab_procedures'].mean().to_dict()\n",
    "    print(\"B6 — mean num_lab_procedures: not_readmit =\", round(m.get(0, np.nan),3), \"readmit =\", round(m.get(1, np.nan),3))\n",
    "else:\n",
    "    print(\"B6 skipped — num_lab_procedures missing.\")\n"
   ]
  },
  {
   "cell_type": "code",
   "execution_count": 56,
   "id": "a92b8957",
   "metadata": {},
   "outputs": [
    {
     "name": "stdout",
     "output_type": "stream",
     "text": [
      "B7 — Readmission Rate by Race (Top 6):\n",
      "race\n",
      "Caucasian          47.02%\n",
      "AfricanAmerican    46.13%\n",
      "Hispanic           41.13%\n",
      "Other              40.58%\n",
      "Asian              37.00%\n",
      "?                  31.51%\n",
      "\n",
      "B7 — Readmission Rate by Gender:\n",
      "gender\n",
      "Female             46.83%\n",
      "Male               45.52%\n",
      "Unknown/Invalid     0.00%\n"
     ]
    }
   ],
   "source": [
    "if 'race' in df.columns:\n",
    "    r = df.groupby('race')['readmitted'].mean().sort_values(ascending=False).head(6) * 100\n",
    "    print(\"B7 — Readmission Rate by Race (Top 6):\")\n",
    "    print(r.apply(lambda x: f\"{x:.2f}%\").to_string())\n",
    "else:\n",
    "    print(\"B7 race skipped — 'race' column not found in dataset.\")\n",
    "\n",
    "if 'gender' in df.columns:\n",
    "    g = df.groupby('gender')['readmitted'].mean() * 100\n",
    "    print(\"\\nB7 — Readmission Rate by Gender:\")\n",
    "    print(g.apply(lambda x: f\"{x:.2f}%\").to_string())\n",
    "else:\n",
    "    print(\"B7 gender skipped — 'gender' column not found in dataset.\")"
   ]
  },
  {
   "cell_type": "code",
   "execution_count": 57,
   "id": "5fc16117",
   "metadata": {},
   "outputs": [
    {
     "name": "stdout",
     "output_type": "stream",
     "text": [
      "B8 skipped — insufficient weight data for quartiles.\n"
     ]
    }
   ],
   "source": [
    "if 'weight' in df.columns:\n",
    "    w = pd.to_numeric(df['weight'], errors='coerce').dropna()\n",
    "    if len(w) < 10 or w.nunique() < 4:\n",
    "        print(\"B8 skipped — insufficient weight data for quartiles.\")\n",
    "    else:\n",
    "        df['_weight_bin'] = pd.qcut(df['weight'].dropna(), 4, labels=['Q1','Q2','Q3','Q4'])\n",
    "        out = df.dropna(subset=['_weight_bin']).groupby('_weight_bin')['readmitted'].mean()\n",
    "        print(\"B8 — readmit by weight quartile:\")\n",
    "        print(out.to_string())\n",
    "else:\n",
    "    print(\"B8 skipped — 'weight' missing.\")\n"
   ]
  },
  {
   "cell_type": "code",
   "execution_count": 58,
   "id": "d0ebd084",
   "metadata": {},
   "outputs": [
    {
     "name": "stdout",
     "output_type": "stream",
     "text": [
      "B9 — Corr(num_medications, LOS) = 0.465\n"
     ]
    }
   ],
   "source": [
    "if 'num_medications' in df.columns and df['time_in_hospital'].notna().any():\n",
    "    corr = df['num_medications'].corr(df['time_in_hospital'])\n",
    "    print(f\"B9 — Corr(num_medications, LOS) = {corr:.3f}\")\n",
    "else:\n",
    "    print(\"B9 skipped — columns missing.\")\n"
   ]
  },
  {
   "cell_type": "code",
   "execution_count": 59,
   "id": "fb05ba8b",
   "metadata": {},
   "outputs": [
    {
     "name": "stdout",
     "output_type": "stream",
     "text": [
      "B10 — Corr(number_outpatient, readmitted) = 0.083\n"
     ]
    }
   ],
   "source": [
    "if 'number_outpatient' in df.columns:\n",
    "    corr = df['number_outpatient'].corr(df['readmitted'])\n",
    "    print(f\"B10 — Corr(number_outpatient, readmitted) = {corr:.3f}\")\n",
    "else:\n",
    "    print(\"B10 skipped — 'number_outpatient' missing.\")\n"
   ]
  },
  {
   "cell_type": "markdown",
   "id": "4a4e8071",
   "metadata": {},
   "source": [
    "## MEDIUM QUESTIONS (M1–M10) — compact answers\n"
   ]
  },
  {
   "cell_type": "code",
   "execution_count": 60,
   "id": "5451522c",
   "metadata": {},
   "outputs": [
    {
     "name": "stdout",
     "output_type": "stream",
     "text": [
      "M1 skipped — 'admission_date' missing.\n"
     ]
    }
   ],
   "source": [
    "if 'admission_date' in df.columns:\n",
    "    monthly = df.groupby(df['admission_date'].dt.to_period('M'))['readmitted'].mean()\n",
    "    print(\"M1 — recent monthly readmit (last 6 periods):\")\n",
    "    print(monthly.tail(6).round(3).to_string())\n",
    "else:\n",
    "    print(\"M1 skipped — 'admission_date' missing.\")\n"
   ]
  },
  {
   "cell_type": "code",
   "execution_count": 75,
   "id": "1d2e0e73",
   "metadata": {},
   "outputs": [
    {
     "name": "stdout",
     "output_type": "stream",
     "text": [
      "M2 — Sample by Number of Diagnoses (Top 10):\n",
      " number_diagnoses     n  median_los readmit_rate\n",
      "                9 23832         4.0       50.73%\n",
      "                5  5484         3.0       36.03%\n",
      "                8  5116         4.0       47.60%\n",
      "                7  4942         3.0       46.46%\n",
      "                6  4855         3.0       44.30%\n",
      "                4  2657         3.0       37.15%\n",
      "                3  1378         2.0       34.83%\n",
      "                2   493         2.0       29.82%\n",
      "                1   102         2.0       22.55%\n",
      "               16    19         5.0       36.84%\n"
     ]
    }
   ],
   "source": [
    "if 'number_diagnoses' in df.columns:\n",
    "    m2 = df.groupby('number_diagnoses').agg(\n",
    "        n=('encounter_id','count'),\n",
    "        median_los=('time_in_hospital','median'),\n",
    "        readmit_rate=('readmitted','mean')\n",
    "    ).reset_index().sort_values('n', ascending=False).head(10)\n",
    "\n",
    "\n",
    "    m2['readmit_rate'] = (m2['readmit_rate'] * 100).apply(lambda x: f\"{x:.2f}%\")\n",
    "\n",
    "    print(\"M2 — Sample by Number of Diagnoses (Top 10):\")\n",
    "    print(m2.to_string(index=False))\n",
    "else:\n",
    "    print(\"M2 skipped — 'number_diagnoses' column not found in dataset.\")\n"
   ]
  },
  {
   "cell_type": "code",
   "execution_count": 61,
   "id": "24361afa",
   "metadata": {},
   "outputs": [
    {
     "name": "stdout",
     "output_type": "stream",
     "text": [
      "M4 — avg procedure counts by race (sample):\n",
      "                 num_lab_procedures  num_procedures\n",
      "race                                               \n",
      "?                             44.36            1.23\n",
      "AfricanAmerican               44.22            1.22\n",
      "Asian                         41.53            1.41\n",
      "Caucasian                     42.84            1.37\n",
      "Hispanic                      41.66            1.08\n",
      "Other                         43.55            1.52\n"
     ]
    }
   ],
   "source": [
    "cols = [c for c in ['num_lab_procedures','num_procedures'] if c in df.columns]\n",
    "if cols and 'race' in df.columns:\n",
    "    m4 = df.groupby('race')[cols].mean().head(8)\n",
    "    print(\"M4 — avg procedure counts by race (sample):\")\n",
    "    print(m4.round(2).to_string())\n",
    "else:\n",
    "    print(\"M4 skipped — required columns missing.\")\n"
   ]
  },
  {
   "cell_type": "code",
   "execution_count": 62,
   "id": "c82b3909",
   "metadata": {},
   "outputs": [
    {
     "name": "stdout",
     "output_type": "stream",
     "text": [
      "M7 — medication indicators by specialty (sample):\n",
      "Empty DataFrame\n",
      "Columns: []\n",
      "Index: [?, AllergyandImmunology, Anesthesiology, Anesthesiology-Pediatric, Cardiology, Cardiology-Pediatric, DCPTEAM, Dentistry]\n"
     ]
    }
   ],
   "source": [
    "x_cols = [c for c in df.columns if c.startswith('X') and c[1:].isdigit()]\n",
    "if x_cols and 'medical_specialty' in df.columns:\n",
    "    m7 = df.groupby('medical_specialty')[x_cols].mean().head(8)\n",
    "    print(\"M7 — medication indicators by specialty (sample):\")\n",
    "    print(m7.round(2).to_string())\n",
    "else:\n",
    "    print(\"M7 skipped — Xcols or medical_specialty missing.\")\n"
   ]
  },
  {
   "cell_type": "code",
   "execution_count": 63,
   "id": "9d068096",
   "metadata": {},
   "outputs": [
    {
     "name": "stdout",
     "output_type": "stream",
     "text": [
      "M8 skipped — weight or primary_dx missing.\n"
     ]
    }
   ],
   "source": [
    "if 'weight' in df.columns and 'primary_dx' in df.columns:\n",
    "    wnum = pd.to_numeric(df['weight'], errors='coerce')\n",
    "    if wnum.dropna().shape[0] < 10:\n",
    "        print(\"M8 skipped — insufficient weight data.\")\n",
    "    else:\n",
    "        m8 = df.dropna(subset=['weight']).groupby('primary_dx').agg(n=('encounter_id','count'), mean_w=('weight','mean'), readmit_rate=('readmitted','mean')).sort_values('n', ascending=False).head(10)\n",
    "        print(\"M8 — sample primary_dx with weight stats:\")\n",
    "        print(m8.round(2).to_string())\n",
    "else:\n",
    "    print(\"M8 skipped — weight or primary_dx missing.\")\n"
   ]
  },
  {
   "cell_type": "code",
   "execution_count": 64,
   "id": "b5c05701",
   "metadata": {},
   "outputs": [
    {
     "name": "stdout",
     "output_type": "stream",
     "text": [
      "M9 — diabetic readmit by med_change_flag:\n",
      "                     n  readmit_rate\n",
      "med_change_flag                     \n",
      "False            37640      0.479384\n"
     ]
    }
   ],
   "source": [
    "if 'diabetesMed' in df.columns and 'med_change_flag' in df.columns:\n",
    "    dmask = df['diabetesMed'].astype(str).str.lower().isin(['yes','1','y','true'])\n",
    "    if dmask.sum()>0:\n",
    "        m9 = df[dmask].groupby('med_change_flag')['readmitted'].agg(n='size', readmit_rate='mean')\n",
    "        print(\"M9 — diabetic readmit by med_change_flag:\")\n",
    "        print(m9.to_string())\n",
    "    else:\n",
    "        print(\"M9 skipped — no diabetesMed==Yes rows.\")\n",
    "else:\n",
    "    print(\"M9 skipped — required columns missing.\")\n"
   ]
  },
  {
   "cell_type": "code",
   "execution_count": 65,
   "id": "a31c8467",
   "metadata": {},
   "outputs": [
    {
     "name": "stdout",
     "output_type": "stream",
     "text": [
      "M10 skipped — satisfaction column missing.\n"
     ]
    }
   ],
   "source": [
    "scol = next((c for c in ['patient_satisfaction','satisfaction','satis_score'] if c in df.columns), None)\n",
    "if scol:\n",
    "    qlabels = pd.qcut(df[scol].rank(method='first'), 4, labels=['Q1','Q2','Q3','Q4'])\n",
    "    m10 = df.groupby(qlabels)['readmitted'].mean()\n",
    "    print(\"M10 — readmit by satisfaction quartile:\")\n",
    "    print(m10.round(3).to_string())\n",
    "else:\n",
    "    print(\"M10 skipped — satisfaction column missing.\")\n"
   ]
  },
  {
   "cell_type": "markdown",
   "id": "ab0eb0dd",
   "metadata": {},
   "source": [
    "## ADVANCED QUESTIONS (A1–A10) — compact answers & models\n"
   ]
  },
  {
   "cell_type": "code",
   "execution_count": 66,
   "id": "49e9d1d5",
   "metadata": {},
   "outputs": [
    {
     "name": "stdout",
     "output_type": "stream",
     "text": [
      "A1 — modeling rows: 0 | features used: ['time_in_hospital', 'num_lab_procedures', 'num_procedures', 'num_medications', 'number_outpatient', 'number_emergency', 'number_inpatient', 'number_diagnoses', 'lace_score', 'age_group', 'gender', 'race', 'diabetesMed', 'med_change_flag']\n"
     ]
    }
   ],
   "source": [
    "candidate_features = [\n",
    "    'time_in_hospital','num_lab_procedures','num_procedures','num_medications',\n",
    "    'number_outpatient','number_emergency','number_inpatient','number_diagnoses','lace_score',\n",
    "    'age_group','gender','race','diabetesMed','med_change_flag'\n",
    "]\n",
    "features = [c for c in candidate_features if c in df.columns]\n",
    "df_model = df.dropna(subset=features + ['readmitted']).copy()\n",
    "print(\"A1 — modeling rows:\", len(df_model), \"| features used:\", features)\n"
   ]
  },
  {
   "cell_type": "code",
   "execution_count": 67,
   "id": "f12e18ff",
   "metadata": {},
   "outputs": [
    {
     "name": "stdout",
     "output_type": "stream",
     "text": [
      "A2 — readmit by util_bucket:\n",
      "util_bucket\n",
      "Low     0.362\n",
      "Med     0.413\n",
      "High    0.611\n"
     ]
    }
   ],
   "source": [
    "if all(c in df.columns for c in ['number_outpatient','number_emergency','number_inpatient']):\n",
    "    df['util_sum'] = df[['number_outpatient','number_emergency','number_inpatient']].fillna(0).sum(axis=1)\n",
    "    df['util_bucket'] = pd.qcut(df['util_sum'].rank(method='first'), 3, labels=['Low','Med','High'])\n",
    "    print(\"A2 — readmit by util_bucket:\")\n",
    "    print(df.groupby('util_bucket')['readmitted'].mean().round(3).to_string())\n",
    "else:\n",
    "    print(\"A2 skipped — utilization columns missing.\")\n"
   ]
  },
  {
   "cell_type": "code",
   "execution_count": 68,
   "id": "22f9181f",
   "metadata": {},
   "outputs": [
    {
     "name": "stdout",
     "output_type": "stream",
     "text": [
      "A3 skipped — 'cost' not present.\n"
     ]
    }
   ],
   "source": [
    "if 'cost' in df.columns:\n",
    "    avg_cost = df.loc[df['readmitted']==1,'cost'].mean()\n",
    "    total_readmits = df['readmitted'].sum()\n",
    "    print(f\"A3 — avg cost per readmit: {avg_cost:.2f}, total readmits: {total_readmits}\")\n",
    "else:\n",
    "    print(\"A3 skipped — 'cost' not present.\")\n"
   ]
  },
  {
   "cell_type": "code",
   "execution_count": 69,
   "id": "f3477a49",
   "metadata": {},
   "outputs": [
    {
     "name": "stdout",
     "output_type": "stream",
     "text": [
      "A4 — top by race:\n",
      "                     n  readmit_rate\n",
      "race                                \n",
      "Caucasian        36637      0.470235\n",
      "AfricanAmerican   9136      0.461252\n",
      "Hispanic           970      0.411340\n",
      "Other              754      0.405836\n",
      "Asian              300      0.370000\n",
      "A4 — payer missing; skipped.\n",
      "A4 — zip missing; skipped.\n"
     ]
    }
   ],
   "source": [
    "for col in ['race','payer','zip']:\n",
    "    if col in df.columns:\n",
    "        out = df.groupby(col)['readmitted'].agg(n='size', readmit_rate='mean').sort_values('readmit_rate', ascending=False).head(5)\n",
    "        print(f\"A4 — top by {col}:\")\n",
    "        print(out.to_string())\n",
    "    else:\n",
    "        print(f\"A4 — {col} missing; skipped.\")\n"
   ]
  },
  {
   "cell_type": "code",
   "execution_count": 70,
   "id": "e77cbbb7",
   "metadata": {},
   "outputs": [
    {
     "name": "stdout",
     "output_type": "stream",
     "text": [
      "A5 skipped — followup or discharge dates missing.\n"
     ]
    }
   ],
   "source": [
    "if 'followup_appointment_date' in df.columns and 'discharge_date' in df.columns:\n",
    "    df['days_to_followup'] = (pd.to_datetime(df['followup_appointment_date'], errors='coerce') - pd.to_datetime(df['discharge_date'], errors='coerce')).dt.days\n",
    "    df['followup_7d'] = df['days_to_followup'].between(0,7)\n",
    "    print(\"A5 — readmit by followup_7d:\")\n",
    "    print(df.groupby('followup_7d')['readmitted'].agg(n='size', readmit_rate='mean').to_string())\n",
    "else:\n",
    "    print(\"A5 skipped — followup or discharge dates missing.\")\n"
   ]
  },
  {
   "cell_type": "code",
   "execution_count": 71,
   "id": "9da7b0d2",
   "metadata": {},
   "outputs": [
    {
     "name": "stdout",
     "output_type": "stream",
     "text": [
      "A10 — Recommendations:\n",
      "1) Clinical review of top-200 predicted high-risk patients.\n",
      "2) Pilot: pharmacist callback + 7-day follow-up for top-risk group.\n",
      "3) Capture SDoH & discharge disposition in EMR.\n",
      "4) Retrain monthly and add local explanations (SHAP).\n",
      "5) Partner with finance to calculate ROI per avoided readmission.\n"
     ]
    }
   ],
   "source": [
    "rec = [\n",
    " \"1) Clinical review of top-200 predicted high-risk patients.\",\n",
    " \"2) Pilot: pharmacist callback + 7-day follow-up for top-risk group.\",\n",
    " \"3) Capture SDoH & discharge disposition in EMR.\",\n",
    " \"4) Retrain monthly and add local explanations (SHAP).\",\n",
    " \"5) Partner with finance to calculate ROI per avoided readmission.\"\n",
    "]\n",
    "print(\"A10 — Recommendations:\")\n",
    "for r in rec:\n",
    "    print(r)\n"
   ]
  },
  {
   "cell_type": "code",
   "execution_count": 72,
   "id": "b2ba61f6",
   "metadata": {},
   "outputs": [
    {
     "name": "stdout",
     "output_type": "stream",
     "text": [
      "FINAL SUMMARY (compact):\n",
      "- Rows used: 48911\n",
      "- Overall readmit rate: 46.22%\n",
      "- No model trained due to limited data.\n",
      "\n",
      "Next steps (compact): clinical review of top list; pilot outreach; capture SDoH & discharge details.\n"
     ]
    }
   ],
   "source": [
    "print(\"FINAL SUMMARY (compact):\")\n",
    "print(\"-\", \"Rows used:\", len(df))\n",
    "print(\"-\", \"Overall readmit rate:\", f\"{df['readmitted'].mean():.2%}\")\n",
    "if 'rf_pipe' in globals() or 'rf_pipe' in locals():\n",
    "    print(\"-\", \"RF AUC (test):\", round(rf_auc,3))\n",
    "    print(\"-\", \"Top risk export:\", EXPORT)\n",
    "else:\n",
    "    print(\"-\", \"No model trained due to limited data.\")\n",
    "print(\"\\nNext steps (compact): clinical review of top list; pilot outreach; capture SDoH & discharge details.\")\n"
   ]
  },
  {
   "cell_type": "code",
   "execution_count": 73,
   "id": "7eb93f89",
   "metadata": {},
   "outputs": [
    {
     "name": "stdout",
     "output_type": "stream",
     "text": [
      "Saved KPI summary to kpi_summary.csv — notebook complete.\n"
     ]
    }
   ],
   "source": [
    "KPIS = {\n",
    "    'rows': len(df),\n",
    "    'readmit_rate': df['readmitted'].mean()\n",
    "}\n",
    "pd.DataFrame([KPIS]).to_csv(\"kpi_summary.csv\", index=False)\n",
    "print(\"Saved KPI summary to kpi_summary.csv — notebook complete.\")\n"
   ]
  }
 ],
 "metadata": {
  "kernelspec": {
   "display_name": "Python 3 (ipykernel)",
   "language": "python",
   "name": "python3"
  },
  "language_info": {
   "codemirror_mode": {
    "name": "ipython",
    "version": 3
   },
   "file_extension": ".py",
   "mimetype": "text/x-python",
   "name": "python",
   "nbconvert_exporter": "python",
   "pygments_lexer": "ipython3",
   "version": "3.11.3"
  }
 },
 "nbformat": 4,
 "nbformat_minor": 5
}
